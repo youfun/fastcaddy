{
 "cells": [
  {
   "cell_type": "markdown",
   "id": "33dfcb6a",
   "metadata": {},
   "source": [
    "# Test add_sub_reverse_proxy"
   ]
  },
  {
   "cell_type": "code",
   "execution_count": null,
   "id": "eb5677b5",
   "metadata": {},
   "outputs": [],
   "source": [
    "from fastcaddy.core import *\n",
    "from fastcore.test import *"
   ]
  },
  {
   "cell_type": "code",
   "execution_count": null,
   "id": "c5b916a7",
   "metadata": {},
   "outputs": [],
   "source": [
    "import json\n",
    "from rich import print"
   ]
  },
  {
   "cell_type": "code",
   "execution_count": null,
   "id": "5bc073de",
   "metadata": {},
   "outputs": [],
   "source": [
    "def print_json(j): print(json.dumps(j))"
   ]
  },
  {
   "cell_type": "code",
   "execution_count": null,
   "id": "546b17eb",
   "metadata": {},
   "outputs": [],
   "source": [
    "pcfg({})"
   ]
  },
  {
   "cell_type": "code",
   "execution_count": null,
   "id": "e46580f3",
   "metadata": {},
   "outputs": [],
   "source": [
    "cf_token = 'DUMMY_TOKEN'"
   ]
  },
  {
   "cell_type": "code",
   "execution_count": null,
   "id": "7b2c437f",
   "metadata": {},
   "outputs": [],
   "source": [
    "setup_caddy(cf_token)"
   ]
  },
  {
   "cell_type": "markdown",
   "id": "42fbd6fa",
   "metadata": {},
   "source": [
    "At this point our Caddy config is:"
   ]
  },
  {
   "cell_type": "code",
   "execution_count": null,
   "id": "4ac510a2",
   "metadata": {},
   "outputs": [
    {
     "data": {
      "text/html": [
       "<pre style=\"white-space:pre;overflow-x:auto;line-height:normal;font-family:Menlo,'DejaVu Sans Mono',consolas,'Courier New',monospace\"><span style=\"font-weight: bold\">{</span>\n",
       "    <span style=\"color: #008000; text-decoration-color: #008000\">'apps'</span>: <span style=\"font-weight: bold\">{</span>\n",
       "        <span style=\"color: #008000; text-decoration-color: #008000\">'http'</span>: <span style=\"font-weight: bold\">{</span><span style=\"color: #008000; text-decoration-color: #008000\">'servers'</span>: <span style=\"font-weight: bold\">{</span><span style=\"color: #008000; text-decoration-color: #008000\">'srv0'</span>: <span style=\"font-weight: bold\">{</span><span style=\"color: #008000; text-decoration-color: #008000\">'listen'</span>: <span style=\"font-weight: bold\">[</span><span style=\"color: #008000; text-decoration-color: #008000\">':80'</span>, <span style=\"color: #008000; text-decoration-color: #008000\">':443'</span><span style=\"font-weight: bold\">]</span>, <span style=\"color: #008000; text-decoration-color: #008000\">'routes'</span>: <span style=\"font-weight: bold\">[]}}}</span>,\n",
       "        <span style=\"color: #008000; text-decoration-color: #008000\">'tls'</span>: <span style=\"font-weight: bold\">{</span>\n",
       "            <span style=\"color: #008000; text-decoration-color: #008000\">'automation'</span>: <span style=\"font-weight: bold\">{</span>\n",
       "                <span style=\"color: #008000; text-decoration-color: #008000\">'policies'</span>: <span style=\"font-weight: bold\">[{</span><span style=\"color: #008000; text-decoration-color: #008000\">'issuers'</span>: <span style=\"font-weight: bold\">[{</span><span style=\"color: #008000; text-decoration-color: #008000\">'challenges'</span>: <span style=\"font-weight: bold\">{</span><span style=\"color: #008000; text-decoration-color: #008000\">'dns'</span>: <span style=\"font-weight: bold\">{</span><span style=\"color: #008000; text-decoration-color: #008000\">'provider'</span>: <span style=\"font-weight: bold\">{</span><span style=\"color: #008000; text-decoration-color: #008000\">'api_token'</span>: <span style=\"color: #008000; text-decoration-color: #008000\">'DUMMY_TOKEN'</span>, <span style=\"color: #008000; text-decoration-color: #008000\">'name'</span>: \n",
       "<span style=\"color: #008000; text-decoration-color: #008000\">'cloudflare'</span><span style=\"font-weight: bold\">}}}</span>, <span style=\"color: #008000; text-decoration-color: #008000\">'module'</span>: <span style=\"color: #008000; text-decoration-color: #008000\">'acme'</span><span style=\"font-weight: bold\">}]}]</span>\n",
       "            <span style=\"font-weight: bold\">}</span>\n",
       "        <span style=\"font-weight: bold\">}</span>\n",
       "    <span style=\"font-weight: bold\">}</span>\n",
       "<span style=\"font-weight: bold\">}</span>\n",
       "</pre>\n"
      ],
      "text/plain": [
       "\u001b[1m{\u001b[0m\n",
       "    \u001b[32m'apps'\u001b[0m: \u001b[1m{\u001b[0m\n",
       "        \u001b[32m'http'\u001b[0m: \u001b[1m{\u001b[0m\u001b[32m'servers'\u001b[0m: \u001b[1m{\u001b[0m\u001b[32m'srv0'\u001b[0m: \u001b[1m{\u001b[0m\u001b[32m'listen'\u001b[0m: \u001b[1m[\u001b[0m\u001b[32m':80'\u001b[0m, \u001b[32m':443'\u001b[0m\u001b[1m]\u001b[0m, \u001b[32m'routes'\u001b[0m: \u001b[1m[\u001b[0m\u001b[1m]\u001b[0m\u001b[1m}\u001b[0m\u001b[1m}\u001b[0m\u001b[1m}\u001b[0m,\n",
       "        \u001b[32m'tls'\u001b[0m: \u001b[1m{\u001b[0m\n",
       "            \u001b[32m'automation'\u001b[0m: \u001b[1m{\u001b[0m\n",
       "                \u001b[32m'policies'\u001b[0m: \u001b[1m[\u001b[0m\u001b[1m{\u001b[0m\u001b[32m'issuers'\u001b[0m: \u001b[1m[\u001b[0m\u001b[1m{\u001b[0m\u001b[32m'challenges'\u001b[0m: \u001b[1m{\u001b[0m\u001b[32m'dns'\u001b[0m: \u001b[1m{\u001b[0m\u001b[32m'provider'\u001b[0m: \u001b[1m{\u001b[0m\u001b[32m'api_token'\u001b[0m: \u001b[32m'DUMMY_TOKEN'\u001b[0m, \u001b[32m'name'\u001b[0m: \n",
       "\u001b[32m'cloudflare'\u001b[0m\u001b[1m}\u001b[0m\u001b[1m}\u001b[0m\u001b[1m}\u001b[0m, \u001b[32m'module'\u001b[0m: \u001b[32m'acme'\u001b[0m\u001b[1m}\u001b[0m\u001b[1m]\u001b[0m\u001b[1m}\u001b[0m\u001b[1m]\u001b[0m\n",
       "            \u001b[1m}\u001b[0m\n",
       "        \u001b[1m}\u001b[0m\n",
       "    \u001b[1m}\u001b[0m\n",
       "\u001b[1m}\u001b[0m\n"
      ]
     },
     "metadata": {},
     "output_type": "display_data"
    }
   ],
   "source": [
    "print(gcfg())"
   ]
  },
  {
   "cell_type": "markdown",
   "id": "cf709202",
   "metadata": {},
   "source": [
    "We can confirm that by going to [http://localhost:2019/config/](http://localhost:2019/config/)"
   ]
  },
  {
   "cell_type": "markdown",
   "id": "acb47c61",
   "metadata": {},
   "source": [
    "## Setup: add wildcard route *.something.example.com. "
   ]
  },
  {
   "cell_type": "markdown",
   "id": "f2891fe8",
   "metadata": {},
   "source": [
    "This is needed in order to add subroutes to it. "
   ]
  },
  {
   "cell_type": "code",
   "execution_count": null,
   "id": "014bff50",
   "metadata": {},
   "outputs": [],
   "source": [
    "add_wildcard_route('something.example.com')"
   ]
  },
  {
   "cell_type": "markdown",
   "id": "c0f23530",
   "metadata": {},
   "source": [
    "Now our config should include the wildcard route:"
   ]
  },
  {
   "cell_type": "code",
   "execution_count": null,
   "id": "f6e33e6c",
   "metadata": {},
   "outputs": [
    {
     "data": {
      "text/html": [
       "<pre style=\"white-space:pre;overflow-x:auto;line-height:normal;font-family:Menlo,'DejaVu Sans Mono',consolas,'Courier New',monospace\"><span style=\"font-weight: bold\">{</span>\n",
       "    <span style=\"color: #008000; text-decoration-color: #008000\">'apps'</span>: <span style=\"font-weight: bold\">{</span>\n",
       "        <span style=\"color: #008000; text-decoration-color: #008000\">'http'</span>: <span style=\"font-weight: bold\">{</span>\n",
       "            <span style=\"color: #008000; text-decoration-color: #008000\">'servers'</span>: <span style=\"font-weight: bold\">{</span>\n",
       "                <span style=\"color: #008000; text-decoration-color: #008000\">'srv0'</span>: <span style=\"font-weight: bold\">{</span>\n",
       "                    <span style=\"color: #008000; text-decoration-color: #008000\">'listen'</span>: <span style=\"font-weight: bold\">[</span><span style=\"color: #008000; text-decoration-color: #008000\">':80'</span>, <span style=\"color: #008000; text-decoration-color: #008000\">':443'</span><span style=\"font-weight: bold\">]</span>,\n",
       "                    <span style=\"color: #008000; text-decoration-color: #008000\">'routes'</span>: <span style=\"font-weight: bold\">[{</span><span style=\"color: #008000; text-decoration-color: #008000\">'@id'</span>: <span style=\"color: #008000; text-decoration-color: #008000\">'wildcard-something.example.com'</span>, <span style=\"color: #008000; text-decoration-color: #008000\">'handle'</span>: <span style=\"font-weight: bold\">[{</span><span style=\"color: #008000; text-decoration-color: #008000\">'handler'</span>: <span style=\"color: #008000; text-decoration-color: #008000\">'subroute'</span>, \n",
       "<span style=\"color: #008000; text-decoration-color: #008000\">'routes'</span>: <span style=\"font-weight: bold\">[]}]</span>, <span style=\"color: #008000; text-decoration-color: #008000\">'match'</span>: <span style=\"font-weight: bold\">[{</span><span style=\"color: #008000; text-decoration-color: #008000\">'host'</span>: <span style=\"font-weight: bold\">[</span><span style=\"color: #008000; text-decoration-color: #008000\">'*.something.example.com'</span><span style=\"font-weight: bold\">]}]</span>, <span style=\"color: #008000; text-decoration-color: #008000\">'terminal'</span>: <span style=\"color: #00ff00; text-decoration-color: #00ff00; font-style: italic\">True</span><span style=\"font-weight: bold\">}]</span>\n",
       "                <span style=\"font-weight: bold\">}</span>\n",
       "            <span style=\"font-weight: bold\">}</span>\n",
       "        <span style=\"font-weight: bold\">}</span>,\n",
       "        <span style=\"color: #008000; text-decoration-color: #008000\">'tls'</span>: <span style=\"font-weight: bold\">{</span>\n",
       "            <span style=\"color: #008000; text-decoration-color: #008000\">'automation'</span>: <span style=\"font-weight: bold\">{</span>\n",
       "                <span style=\"color: #008000; text-decoration-color: #008000\">'policies'</span>: <span style=\"font-weight: bold\">[{</span><span style=\"color: #008000; text-decoration-color: #008000\">'issuers'</span>: <span style=\"font-weight: bold\">[{</span><span style=\"color: #008000; text-decoration-color: #008000\">'challenges'</span>: <span style=\"font-weight: bold\">{</span><span style=\"color: #008000; text-decoration-color: #008000\">'dns'</span>: <span style=\"font-weight: bold\">{</span><span style=\"color: #008000; text-decoration-color: #008000\">'provider'</span>: <span style=\"font-weight: bold\">{</span><span style=\"color: #008000; text-decoration-color: #008000\">'api_token'</span>: <span style=\"color: #008000; text-decoration-color: #008000\">'DUMMY_TOKEN'</span>, <span style=\"color: #008000; text-decoration-color: #008000\">'name'</span>: \n",
       "<span style=\"color: #008000; text-decoration-color: #008000\">'cloudflare'</span><span style=\"font-weight: bold\">}}}</span>, <span style=\"color: #008000; text-decoration-color: #008000\">'module'</span>: <span style=\"color: #008000; text-decoration-color: #008000\">'acme'</span><span style=\"font-weight: bold\">}]}]</span>\n",
       "            <span style=\"font-weight: bold\">}</span>\n",
       "        <span style=\"font-weight: bold\">}</span>\n",
       "    <span style=\"font-weight: bold\">}</span>\n",
       "<span style=\"font-weight: bold\">}</span>\n",
       "</pre>\n"
      ],
      "text/plain": [
       "\u001b[1m{\u001b[0m\n",
       "    \u001b[32m'apps'\u001b[0m: \u001b[1m{\u001b[0m\n",
       "        \u001b[32m'http'\u001b[0m: \u001b[1m{\u001b[0m\n",
       "            \u001b[32m'servers'\u001b[0m: \u001b[1m{\u001b[0m\n",
       "                \u001b[32m'srv0'\u001b[0m: \u001b[1m{\u001b[0m\n",
       "                    \u001b[32m'listen'\u001b[0m: \u001b[1m[\u001b[0m\u001b[32m':80'\u001b[0m, \u001b[32m':443'\u001b[0m\u001b[1m]\u001b[0m,\n",
       "                    \u001b[32m'routes'\u001b[0m: \u001b[1m[\u001b[0m\u001b[1m{\u001b[0m\u001b[32m'@id'\u001b[0m: \u001b[32m'wildcard-something.example.com'\u001b[0m, \u001b[32m'handle'\u001b[0m: \u001b[1m[\u001b[0m\u001b[1m{\u001b[0m\u001b[32m'handler'\u001b[0m: \u001b[32m'subroute'\u001b[0m, \n",
       "\u001b[32m'routes'\u001b[0m: \u001b[1m[\u001b[0m\u001b[1m]\u001b[0m\u001b[1m}\u001b[0m\u001b[1m]\u001b[0m, \u001b[32m'match'\u001b[0m: \u001b[1m[\u001b[0m\u001b[1m{\u001b[0m\u001b[32m'host'\u001b[0m: \u001b[1m[\u001b[0m\u001b[32m'*.something.example.com'\u001b[0m\u001b[1m]\u001b[0m\u001b[1m}\u001b[0m\u001b[1m]\u001b[0m, \u001b[32m'terminal'\u001b[0m: \u001b[3;92mTrue\u001b[0m\u001b[1m}\u001b[0m\u001b[1m]\u001b[0m\n",
       "                \u001b[1m}\u001b[0m\n",
       "            \u001b[1m}\u001b[0m\n",
       "        \u001b[1m}\u001b[0m,\n",
       "        \u001b[32m'tls'\u001b[0m: \u001b[1m{\u001b[0m\n",
       "            \u001b[32m'automation'\u001b[0m: \u001b[1m{\u001b[0m\n",
       "                \u001b[32m'policies'\u001b[0m: \u001b[1m[\u001b[0m\u001b[1m{\u001b[0m\u001b[32m'issuers'\u001b[0m: \u001b[1m[\u001b[0m\u001b[1m{\u001b[0m\u001b[32m'challenges'\u001b[0m: \u001b[1m{\u001b[0m\u001b[32m'dns'\u001b[0m: \u001b[1m{\u001b[0m\u001b[32m'provider'\u001b[0m: \u001b[1m{\u001b[0m\u001b[32m'api_token'\u001b[0m: \u001b[32m'DUMMY_TOKEN'\u001b[0m, \u001b[32m'name'\u001b[0m: \n",
       "\u001b[32m'cloudflare'\u001b[0m\u001b[1m}\u001b[0m\u001b[1m}\u001b[0m\u001b[1m}\u001b[0m, \u001b[32m'module'\u001b[0m: \u001b[32m'acme'\u001b[0m\u001b[1m}\u001b[0m\u001b[1m]\u001b[0m\u001b[1m}\u001b[0m\u001b[1m]\u001b[0m\n",
       "            \u001b[1m}\u001b[0m\n",
       "        \u001b[1m}\u001b[0m\n",
       "    \u001b[1m}\u001b[0m\n",
       "\u001b[1m}\u001b[0m\n"
      ]
     },
     "metadata": {},
     "output_type": "display_data"
    }
   ],
   "source": [
    "print(gcfg())"
   ]
  },
  {
   "cell_type": "markdown",
   "id": "1974ace0",
   "metadata": {},
   "source": [
    "At this point there are no subroutes associated with that `*.something.example.com` wildcard. When that is matched, the handlers list is empty until..."
   ]
  },
  {
   "cell_type": "markdown",
   "id": "51b07f9a",
   "metadata": {},
   "source": [
    "## Add subroute 1: foo.something.example.com "
   ]
  },
  {
   "cell_type": "code",
   "execution_count": null,
   "id": "ecb669fd",
   "metadata": {},
   "outputs": [],
   "source": [
    "add_sub_reverse_proxy('something.example.com', 'foo', 5001)"
   ]
  },
  {
   "cell_type": "code",
   "execution_count": null,
   "id": "45436d55",
   "metadata": {},
   "outputs": [
    {
     "data": {
      "text/html": [
       "<pre style=\"white-space:pre;overflow-x:auto;line-height:normal;font-family:Menlo,'DejaVu Sans Mono',consolas,'Courier New',monospace\"><span style=\"font-weight: bold\">[{</span><span style=\"color: #008000; text-decoration-color: #008000\">'handler'</span>: <span style=\"color: #008000; text-decoration-color: #008000\">'subroute'</span>, <span style=\"color: #008000; text-decoration-color: #008000\">'routes'</span>: <span style=\"font-weight: bold\">[{</span><span style=\"color: #008000; text-decoration-color: #008000\">'@id'</span>: <span style=\"color: #008000; text-decoration-color: #008000\">'foo.something.example.com'</span>, <span style=\"color: #008000; text-decoration-color: #008000\">'handle'</span>: <span style=\"font-weight: bold\">[{</span><span style=\"color: #008000; text-decoration-color: #008000\">'handler'</span>: <span style=\"color: #008000; text-decoration-color: #008000\">'reverse_proxy'</span>, \n",
       "<span style=\"color: #008000; text-decoration-color: #008000\">'upstreams'</span>: <span style=\"font-weight: bold\">[{</span><span style=\"color: #008000; text-decoration-color: #008000\">'dial'</span>: <span style=\"color: #008000; text-decoration-color: #008000\">'localhost:5001'</span><span style=\"font-weight: bold\">}]}]</span>, <span style=\"color: #008000; text-decoration-color: #008000\">'match'</span>: <span style=\"font-weight: bold\">[{</span><span style=\"color: #008000; text-decoration-color: #008000\">'host'</span>: <span style=\"font-weight: bold\">[</span><span style=\"color: #008000; text-decoration-color: #008000\">'foo.something.example.com'</span><span style=\"font-weight: bold\">]}]}]}]</span>\n",
       "</pre>\n"
      ],
      "text/plain": [
       "\u001b[1m[\u001b[0m\u001b[1m{\u001b[0m\u001b[32m'handler'\u001b[0m: \u001b[32m'subroute'\u001b[0m, \u001b[32m'routes'\u001b[0m: \u001b[1m[\u001b[0m\u001b[1m{\u001b[0m\u001b[32m'@id'\u001b[0m: \u001b[32m'foo.something.example.com'\u001b[0m, \u001b[32m'handle'\u001b[0m: \u001b[1m[\u001b[0m\u001b[1m{\u001b[0m\u001b[32m'handler'\u001b[0m: \u001b[32m'reverse_proxy'\u001b[0m, \n",
       "\u001b[32m'upstreams'\u001b[0m: \u001b[1m[\u001b[0m\u001b[1m{\u001b[0m\u001b[32m'dial'\u001b[0m: \u001b[32m'localhost:5001'\u001b[0m\u001b[1m}\u001b[0m\u001b[1m]\u001b[0m\u001b[1m}\u001b[0m\u001b[1m]\u001b[0m, \u001b[32m'match'\u001b[0m: \u001b[1m[\u001b[0m\u001b[1m{\u001b[0m\u001b[32m'host'\u001b[0m: \u001b[1m[\u001b[0m\u001b[32m'foo.something.example.com'\u001b[0m\u001b[1m]\u001b[0m\u001b[1m}\u001b[0m\u001b[1m]\u001b[0m\u001b[1m}\u001b[0m\u001b[1m]\u001b[0m\u001b[1m}\u001b[0m\u001b[1m]\u001b[0m\n"
      ]
     },
     "metadata": {},
     "output_type": "display_data"
    }
   ],
   "source": [
    "print(gcfg('/apps/http/servers/srv0/routes/0/handle'))"
   ]
  },
  {
   "cell_type": "markdown",
   "id": "c493eee5",
   "metadata": {},
   "source": [
    "Now we can see the `handle` config with the list of sub-routes and the sub-route handler. "
   ]
  },
  {
   "cell_type": "code",
   "execution_count": null,
   "id": "84602288",
   "metadata": {},
   "outputs": [
    {
     "data": {
      "text/html": [
       "<pre style=\"white-space:pre;overflow-x:auto;line-height:normal;font-family:Menlo,'DejaVu Sans Mono',consolas,'Courier New',monospace\"><span style=\"font-weight: bold\">[{</span><span style=\"color: #008000; text-decoration-color: #008000\">'@id'</span>: <span style=\"color: #008000; text-decoration-color: #008000\">'foo.something.example.com'</span>, <span style=\"color: #008000; text-decoration-color: #008000\">'handle'</span>: <span style=\"font-weight: bold\">[{</span><span style=\"color: #008000; text-decoration-color: #008000\">'handler'</span>: <span style=\"color: #008000; text-decoration-color: #008000\">'reverse_proxy'</span>, <span style=\"color: #008000; text-decoration-color: #008000\">'upstreams'</span>: <span style=\"font-weight: bold\">[{</span><span style=\"color: #008000; text-decoration-color: #008000\">'dial'</span>: \n",
       "<span style=\"color: #008000; text-decoration-color: #008000\">'localhost:5001'</span><span style=\"font-weight: bold\">}]}]</span>, <span style=\"color: #008000; text-decoration-color: #008000\">'match'</span>: <span style=\"font-weight: bold\">[{</span><span style=\"color: #008000; text-decoration-color: #008000\">'host'</span>: <span style=\"font-weight: bold\">[</span><span style=\"color: #008000; text-decoration-color: #008000\">'foo.something.example.com'</span><span style=\"font-weight: bold\">]}]}]</span>\n",
       "</pre>\n"
      ],
      "text/plain": [
       "\u001b[1m[\u001b[0m\u001b[1m{\u001b[0m\u001b[32m'@id'\u001b[0m: \u001b[32m'foo.something.example.com'\u001b[0m, \u001b[32m'handle'\u001b[0m: \u001b[1m[\u001b[0m\u001b[1m{\u001b[0m\u001b[32m'handler'\u001b[0m: \u001b[32m'reverse_proxy'\u001b[0m, \u001b[32m'upstreams'\u001b[0m: \u001b[1m[\u001b[0m\u001b[1m{\u001b[0m\u001b[32m'dial'\u001b[0m: \n",
       "\u001b[32m'localhost:5001'\u001b[0m\u001b[1m}\u001b[0m\u001b[1m]\u001b[0m\u001b[1m}\u001b[0m\u001b[1m]\u001b[0m, \u001b[32m'match'\u001b[0m: \u001b[1m[\u001b[0m\u001b[1m{\u001b[0m\u001b[32m'host'\u001b[0m: \u001b[1m[\u001b[0m\u001b[32m'foo.something.example.com'\u001b[0m\u001b[1m]\u001b[0m\u001b[1m}\u001b[0m\u001b[1m]\u001b[0m\u001b[1m}\u001b[0m\u001b[1m]\u001b[0m\n"
      ]
     },
     "metadata": {},
     "output_type": "display_data"
    }
   ],
   "source": [
    "print(gcfg('/apps/http/servers/srv0/routes/0/handle/0/routes'))"
   ]
  },
  {
   "cell_type": "markdown",
   "id": "fb584a6e",
   "metadata": {},
   "source": [
    "We can see that:\n"
   ]
  },
  {
   "cell_type": "markdown",
   "id": "1f9e0373",
   "metadata": {},
   "source": [
    "1. A route with id `foo.something.example.com` was created. "
   ]
  },
  {
   "cell_type": "code",
   "execution_count": null,
   "id": "d41878c5",
   "metadata": {},
   "outputs": [],
   "source": [
    "test_eq(gcfg('/apps/http/servers/srv0/routes/0/handle/0/routes/0/@id'), 'foo.something.example.com')"
   ]
  },
  {
   "cell_type": "markdown",
   "id": "b8877153",
   "metadata": {},
   "source": [
    "2. It matches requests for `foo.something.example.com`"
   ]
  },
  {
   "cell_type": "code",
   "execution_count": null,
   "id": "6c2363c1",
   "metadata": {},
   "outputs": [],
   "source": [
    "test_eq(gcfg('apps/http/servers/srv0/routes/0/handle/0/routes/0/match/0/host/0'), 'foo.something.example.com')"
   ]
  },
  {
   "cell_type": "markdown",
   "id": "5e1df309",
   "metadata": {},
   "source": [
    "3. When a request for `foo.something.example.com` is matched, its handler is a reverse proxy to `localhost:5001`. "
   ]
  },
  {
   "cell_type": "code",
   "execution_count": null,
   "id": "da927c2b",
   "metadata": {},
   "outputs": [],
   "source": [
    "test_eq(gcfg('apps/http/servers/srv0/routes/0/handle/0/routes/0/handle/0/upstreams/0/dial'), 'localhost:5001')"
   ]
  },
  {
   "cell_type": "markdown",
   "id": "6d85b447",
   "metadata": {},
   "source": [
    "## Add subroute 2: bar.something.example.com "
   ]
  },
  {
   "cell_type": "code",
   "execution_count": null,
   "id": "ded8cc12",
   "metadata": {},
   "outputs": [],
   "source": [
    "add_sub_reverse_proxy('something.example.com', 'bar', 5002)"
   ]
  },
  {
   "cell_type": "code",
   "execution_count": null,
   "id": "8e795754",
   "metadata": {},
   "outputs": [
    {
     "data": {
      "text/html": [
       "<pre style=\"white-space:pre;overflow-x:auto;line-height:normal;font-family:Menlo,'DejaVu Sans Mono',consolas,'Courier New',monospace\"><span style=\"font-weight: bold\">[{</span><span style=\"color: #008000; text-decoration-color: #008000\">'handler'</span>: <span style=\"color: #008000; text-decoration-color: #008000\">'subroute'</span>, <span style=\"color: #008000; text-decoration-color: #008000\">'routes'</span>: <span style=\"font-weight: bold\">[{</span><span style=\"color: #008000; text-decoration-color: #008000\">'@id'</span>: <span style=\"color: #008000; text-decoration-color: #008000\">'foo.something.example.com'</span>, <span style=\"color: #008000; text-decoration-color: #008000\">'handle'</span>: <span style=\"font-weight: bold\">[{</span><span style=\"color: #008000; text-decoration-color: #008000\">'handler'</span>: <span style=\"color: #008000; text-decoration-color: #008000\">'reverse_proxy'</span>, \n",
       "<span style=\"color: #008000; text-decoration-color: #008000\">'upstreams'</span>: <span style=\"font-weight: bold\">[{</span><span style=\"color: #008000; text-decoration-color: #008000\">'dial'</span>: <span style=\"color: #008000; text-decoration-color: #008000\">'localhost:5001'</span><span style=\"font-weight: bold\">}]}]</span>, <span style=\"color: #008000; text-decoration-color: #008000\">'match'</span>: <span style=\"font-weight: bold\">[{</span><span style=\"color: #008000; text-decoration-color: #008000\">'host'</span>: <span style=\"font-weight: bold\">[</span><span style=\"color: #008000; text-decoration-color: #008000\">'foo.something.example.com'</span><span style=\"font-weight: bold\">]}]}</span>, <span style=\"font-weight: bold\">{</span><span style=\"color: #008000; text-decoration-color: #008000\">'@id'</span>: \n",
       "<span style=\"color: #008000; text-decoration-color: #008000\">'bar.something.example.com'</span>, <span style=\"color: #008000; text-decoration-color: #008000\">'handle'</span>: <span style=\"font-weight: bold\">[{</span><span style=\"color: #008000; text-decoration-color: #008000\">'handler'</span>: <span style=\"color: #008000; text-decoration-color: #008000\">'reverse_proxy'</span>, <span style=\"color: #008000; text-decoration-color: #008000\">'upstreams'</span>: <span style=\"font-weight: bold\">[{</span><span style=\"color: #008000; text-decoration-color: #008000\">'dial'</span>: <span style=\"color: #008000; text-decoration-color: #008000\">'localhost:5002'</span><span style=\"font-weight: bold\">}]}]</span>, \n",
       "<span style=\"color: #008000; text-decoration-color: #008000\">'match'</span>: <span style=\"font-weight: bold\">[{</span><span style=\"color: #008000; text-decoration-color: #008000\">'host'</span>: <span style=\"font-weight: bold\">[</span><span style=\"color: #008000; text-decoration-color: #008000\">'bar.something.example.com'</span><span style=\"font-weight: bold\">]}]}]}]</span>\n",
       "</pre>\n"
      ],
      "text/plain": [
       "\u001b[1m[\u001b[0m\u001b[1m{\u001b[0m\u001b[32m'handler'\u001b[0m: \u001b[32m'subroute'\u001b[0m, \u001b[32m'routes'\u001b[0m: \u001b[1m[\u001b[0m\u001b[1m{\u001b[0m\u001b[32m'@id'\u001b[0m: \u001b[32m'foo.something.example.com'\u001b[0m, \u001b[32m'handle'\u001b[0m: \u001b[1m[\u001b[0m\u001b[1m{\u001b[0m\u001b[32m'handler'\u001b[0m: \u001b[32m'reverse_proxy'\u001b[0m, \n",
       "\u001b[32m'upstreams'\u001b[0m: \u001b[1m[\u001b[0m\u001b[1m{\u001b[0m\u001b[32m'dial'\u001b[0m: \u001b[32m'localhost:5001'\u001b[0m\u001b[1m}\u001b[0m\u001b[1m]\u001b[0m\u001b[1m}\u001b[0m\u001b[1m]\u001b[0m, \u001b[32m'match'\u001b[0m: \u001b[1m[\u001b[0m\u001b[1m{\u001b[0m\u001b[32m'host'\u001b[0m: \u001b[1m[\u001b[0m\u001b[32m'foo.something.example.com'\u001b[0m\u001b[1m]\u001b[0m\u001b[1m}\u001b[0m\u001b[1m]\u001b[0m\u001b[1m}\u001b[0m, \u001b[1m{\u001b[0m\u001b[32m'@id'\u001b[0m: \n",
       "\u001b[32m'bar.something.example.com'\u001b[0m, \u001b[32m'handle'\u001b[0m: \u001b[1m[\u001b[0m\u001b[1m{\u001b[0m\u001b[32m'handler'\u001b[0m: \u001b[32m'reverse_proxy'\u001b[0m, \u001b[32m'upstreams'\u001b[0m: \u001b[1m[\u001b[0m\u001b[1m{\u001b[0m\u001b[32m'dial'\u001b[0m: \u001b[32m'localhost:5002'\u001b[0m\u001b[1m}\u001b[0m\u001b[1m]\u001b[0m\u001b[1m}\u001b[0m\u001b[1m]\u001b[0m, \n",
       "\u001b[32m'match'\u001b[0m: \u001b[1m[\u001b[0m\u001b[1m{\u001b[0m\u001b[32m'host'\u001b[0m: \u001b[1m[\u001b[0m\u001b[32m'bar.something.example.com'\u001b[0m\u001b[1m]\u001b[0m\u001b[1m}\u001b[0m\u001b[1m]\u001b[0m\u001b[1m}\u001b[0m\u001b[1m]\u001b[0m\u001b[1m}\u001b[0m\u001b[1m]\u001b[0m\n"
      ]
     },
     "metadata": {},
     "output_type": "display_data"
    }
   ],
   "source": [
    "print(gcfg('/apps/http/servers/srv0/routes/0/handle'))"
   ]
  },
  {
   "cell_type": "markdown",
   "id": "1c8ca1f8",
   "metadata": {},
   "source": [
    "Now we see a single sub-route handler containing two routes. "
   ]
  },
  {
   "cell_type": "code",
   "execution_count": null,
   "id": "42911a70",
   "metadata": {},
   "outputs": [
    {
     "data": {
      "text/html": [
       "<pre style=\"white-space:pre;overflow-x:auto;line-height:normal;font-family:Menlo,'DejaVu Sans Mono',consolas,'Courier New',monospace\"><span style=\"font-weight: bold\">[{</span><span style=\"color: #008000; text-decoration-color: #008000\">'@id'</span>: <span style=\"color: #008000; text-decoration-color: #008000\">'foo.something.example.com'</span>, <span style=\"color: #008000; text-decoration-color: #008000\">'handle'</span>: <span style=\"font-weight: bold\">[{</span><span style=\"color: #008000; text-decoration-color: #008000\">'handler'</span>: <span style=\"color: #008000; text-decoration-color: #008000\">'reverse_proxy'</span>, <span style=\"color: #008000; text-decoration-color: #008000\">'upstreams'</span>: <span style=\"font-weight: bold\">[{</span><span style=\"color: #008000; text-decoration-color: #008000\">'dial'</span>: \n",
       "<span style=\"color: #008000; text-decoration-color: #008000\">'localhost:5001'</span><span style=\"font-weight: bold\">}]}]</span>, <span style=\"color: #008000; text-decoration-color: #008000\">'match'</span>: <span style=\"font-weight: bold\">[{</span><span style=\"color: #008000; text-decoration-color: #008000\">'host'</span>: <span style=\"font-weight: bold\">[</span><span style=\"color: #008000; text-decoration-color: #008000\">'foo.something.example.com'</span><span style=\"font-weight: bold\">]}]}</span>, <span style=\"font-weight: bold\">{</span><span style=\"color: #008000; text-decoration-color: #008000\">'@id'</span>: <span style=\"color: #008000; text-decoration-color: #008000\">'bar.something.example.com'</span>, \n",
       "<span style=\"color: #008000; text-decoration-color: #008000\">'handle'</span>: <span style=\"font-weight: bold\">[{</span><span style=\"color: #008000; text-decoration-color: #008000\">'handler'</span>: <span style=\"color: #008000; text-decoration-color: #008000\">'reverse_proxy'</span>, <span style=\"color: #008000; text-decoration-color: #008000\">'upstreams'</span>: <span style=\"font-weight: bold\">[{</span><span style=\"color: #008000; text-decoration-color: #008000\">'dial'</span>: <span style=\"color: #008000; text-decoration-color: #008000\">'localhost:5002'</span><span style=\"font-weight: bold\">}]}]</span>, <span style=\"color: #008000; text-decoration-color: #008000\">'match'</span>: <span style=\"font-weight: bold\">[{</span><span style=\"color: #008000; text-decoration-color: #008000\">'host'</span>: \n",
       "<span style=\"font-weight: bold\">[</span><span style=\"color: #008000; text-decoration-color: #008000\">'bar.something.example.com'</span><span style=\"font-weight: bold\">]}]}]</span>\n",
       "</pre>\n"
      ],
      "text/plain": [
       "\u001b[1m[\u001b[0m\u001b[1m{\u001b[0m\u001b[32m'@id'\u001b[0m: \u001b[32m'foo.something.example.com'\u001b[0m, \u001b[32m'handle'\u001b[0m: \u001b[1m[\u001b[0m\u001b[1m{\u001b[0m\u001b[32m'handler'\u001b[0m: \u001b[32m'reverse_proxy'\u001b[0m, \u001b[32m'upstreams'\u001b[0m: \u001b[1m[\u001b[0m\u001b[1m{\u001b[0m\u001b[32m'dial'\u001b[0m: \n",
       "\u001b[32m'localhost:5001'\u001b[0m\u001b[1m}\u001b[0m\u001b[1m]\u001b[0m\u001b[1m}\u001b[0m\u001b[1m]\u001b[0m, \u001b[32m'match'\u001b[0m: \u001b[1m[\u001b[0m\u001b[1m{\u001b[0m\u001b[32m'host'\u001b[0m: \u001b[1m[\u001b[0m\u001b[32m'foo.something.example.com'\u001b[0m\u001b[1m]\u001b[0m\u001b[1m}\u001b[0m\u001b[1m]\u001b[0m\u001b[1m}\u001b[0m, \u001b[1m{\u001b[0m\u001b[32m'@id'\u001b[0m: \u001b[32m'bar.something.example.com'\u001b[0m, \n",
       "\u001b[32m'handle'\u001b[0m: \u001b[1m[\u001b[0m\u001b[1m{\u001b[0m\u001b[32m'handler'\u001b[0m: \u001b[32m'reverse_proxy'\u001b[0m, \u001b[32m'upstreams'\u001b[0m: \u001b[1m[\u001b[0m\u001b[1m{\u001b[0m\u001b[32m'dial'\u001b[0m: \u001b[32m'localhost:5002'\u001b[0m\u001b[1m}\u001b[0m\u001b[1m]\u001b[0m\u001b[1m}\u001b[0m\u001b[1m]\u001b[0m, \u001b[32m'match'\u001b[0m: \u001b[1m[\u001b[0m\u001b[1m{\u001b[0m\u001b[32m'host'\u001b[0m: \n",
       "\u001b[1m[\u001b[0m\u001b[32m'bar.something.example.com'\u001b[0m\u001b[1m]\u001b[0m\u001b[1m}\u001b[0m\u001b[1m]\u001b[0m\u001b[1m}\u001b[0m\u001b[1m]\u001b[0m\n"
      ]
     },
     "metadata": {},
     "output_type": "display_data"
    }
   ],
   "source": [
    "print(gcfg('/apps/http/servers/srv0/routes/0/handle/0/routes'))"
   ]
  },
  {
   "cell_type": "markdown",
   "id": "77b83aaf",
   "metadata": {},
   "source": [
    "Here we see that:\n",
    "\n",
    "1. The `foo.something.example.com` subroute is still present. "
   ]
  },
  {
   "cell_type": "code",
   "execution_count": null,
   "id": "5ea4b8d6",
   "metadata": {},
   "outputs": [],
   "source": [
    "test_eq(gcfg('/apps/http/servers/srv0/routes/0/handle/0/handler'), 'subroute')"
   ]
  },
  {
   "cell_type": "markdown",
   "id": "a26750d4",
   "metadata": {},
   "source": [
    "2. A route with id `bar.something.example.com` was created. "
   ]
  },
  {
   "cell_type": "code",
   "execution_count": null,
   "id": "5043b0d4",
   "metadata": {},
   "outputs": [],
   "source": [
    "test_eq(gcfg('/apps/http/servers/srv0/routes/0/handle/0/routes/1/@id'), 'bar.something.example.com')"
   ]
  },
  {
   "cell_type": "markdown",
   "id": "793d2231",
   "metadata": {},
   "source": [
    "3. It matches requests for `bar.something.example.com`"
   ]
  },
  {
   "cell_type": "code",
   "execution_count": null,
   "id": "81db9404",
   "metadata": {},
   "outputs": [],
   "source": [
    "test_eq(gcfg('/apps/http/servers/srv0/routes/0/handle/0/routes/1/match/0/host/0'),'bar.something.example.com')"
   ]
  },
  {
   "cell_type": "markdown",
   "id": "9cc425cb",
   "metadata": {},
   "source": [
    "4. When a request for `bar.something.example.com` is matched, its handler is a reverse proxy to `localhost:5002`. "
   ]
  },
  {
   "cell_type": "code",
   "execution_count": null,
   "id": "125cda1a",
   "metadata": {},
   "outputs": [],
   "source": [
    "test_eq(gcfg('/apps/http/servers/srv0/routes/0/handle/0/routes/1/handle/0/upstreams/0/dial'), 'localhost:5002')"
   ]
  },
  {
   "cell_type": "markdown",
   "id": "9300a353",
   "metadata": {},
   "source": [
    "## Add multi-port subroute"
   ]
  },
  {
   "cell_type": "code",
   "execution_count": null,
   "id": "67e1ed98",
   "metadata": {},
   "outputs": [],
   "source": [
    "add_sub_reverse_proxy('something.example.com', 'multiport', [5003, 5004])"
   ]
  },
  {
   "cell_type": "code",
   "execution_count": null,
   "id": "7d8607d9",
   "metadata": {},
   "outputs": [
    {
     "data": {
      "text/html": [
       "<pre style=\"white-space:pre;overflow-x:auto;line-height:normal;font-family:Menlo,'DejaVu Sans Mono',consolas,'Courier New',monospace\"><span style=\"font-weight: bold\">[{</span><span style=\"color: #008000; text-decoration-color: #008000\">'dial'</span>: <span style=\"color: #008000; text-decoration-color: #008000\">'localhost:5003'</span><span style=\"font-weight: bold\">}</span>, <span style=\"font-weight: bold\">{</span><span style=\"color: #008000; text-decoration-color: #008000\">'dial'</span>: <span style=\"color: #008000; text-decoration-color: #008000\">'localhost:5004'</span><span style=\"font-weight: bold\">}]</span>\n",
       "</pre>\n"
      ],
      "text/plain": [
       "\u001b[1m[\u001b[0m\u001b[1m{\u001b[0m\u001b[32m'dial'\u001b[0m: \u001b[32m'localhost:5003'\u001b[0m\u001b[1m}\u001b[0m, \u001b[1m{\u001b[0m\u001b[32m'dial'\u001b[0m: \u001b[32m'localhost:5004'\u001b[0m\u001b[1m}\u001b[0m\u001b[1m]\u001b[0m\n"
      ]
     },
     "metadata": {},
     "output_type": "display_data"
    }
   ],
   "source": [
    "print(gcfg('/apps/http/servers/srv0/routes/0/handle/0/routes/2/handle/0/upstreams'))"
   ]
  },
  {
   "cell_type": "code",
   "execution_count": null,
   "id": "8a30320b",
   "metadata": {},
   "outputs": [],
   "source": [
    "test_eq[{'dial': 'localhost:5003'}, {'dial': 'localhost:5004'}]"
   ]
  }
 ],
 "metadata": {
  "kernelspec": {
   "display_name": "python3",
   "language": "python",
   "name": "python3"
  }
 },
 "nbformat": 4,
 "nbformat_minor": 5
}
