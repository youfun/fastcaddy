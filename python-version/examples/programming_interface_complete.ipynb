{
 "cells": [
  {
   "cell_type": "markdown",
   "metadata": {},
   "source": [
    "# FastCaddy Python 编程接口完整示例\n",
    "\n",
    "本notebook展示如何使用FastCaddy Python版本进行域名管理，包括：\n",
    "\n",
    "1. 域名配置状态检查\n",
    "2. 安全的域名添加和删除\n",
    "3. 批量域名操作\n",
    "4. 通配符域名管理\n",
    "5. 配置验证和故障排除\n",
    "\n",
    "## 前置条件\n",
    "\n",
    "- Caddy 服务器运行在 `localhost:2019`\n",
    "- 已安装必要的Python依赖包"
   ]
  },
  {
   "cell_type": "code",
   "execution_count": null,
   "metadata": {},
   "outputs": [],
   "source": [
    "# 导入必要的模块\n",
    "import sys\n",
    "import os\n",
    "sys.path.append('..')\n",
    "\n",
    "from fastcaddy.core import *\n",
    "import time\n",
    "from typing import Dict, List"
   ]
  },
  {
   "cell_type": "markdown",
   "metadata": {},
   "source": [
    "## 1. 环境初始化和状态检查"
   ]
  },
  {
   "cell_type": "code",
   "execution_count": null,
   "metadata": {},
   "outputs": [],
   "source": [
    "# 初始化FastCaddy环境\n",
    "try:\n",
    "    setup_caddy(local=True, install_trust=True)\n",
    "    print(\"✅ FastCaddy环境初始化成功\")\n",
    "except Exception as e:\n",
    "    print(f\"⚠️ 初始化失败: {e}\")\n",
    "    print(\"这通常意味着Caddy服务器未运行\")"
   ]
  },
  {
   "cell_type": "code",
   "execution_count": null,
   "metadata": {},
   "outputs": [],
   "source": [
    "# 检查系统状态\n",
    "def check_system_status():\n",
    "    \"\"\"检查FastCaddy系统状态\"\"\"\n",
    "    status_checks = {\n",
    "        \"HTTP应用\": \"/apps/http\",\n",
    "        \"TLS应用\": \"/apps/tls\",\n",
    "        \"HTTP服务器\": \"/apps/http/servers\",\n",
    "        \"TLS自动化\": \"/apps/tls/automation\"\n",
    "    }\n",
    "    \n",
    "    print(\"🔍 系统状态检查:\")\n",
    "    for name, path in status_checks.items():\n",
    "        exists = has_path(path)\n",
    "        icon = \"✅\" if exists else \"❌\"\n",
    "        status = \"已配置\" if exists else \"未配置\"\n",
    "        print(f\"  {icon} {name}: {status}\")\n",
    "    \n",
    "    return {name: has_path(path) for name, path in status_checks.items()}\n",
    "\n",
    "system_status = check_system_status()"
   ]
  },
  {
   "cell_type": "markdown",
   "metadata": {},
   "source": [
    "## 2. 域名状态检查功能"
   ]
  },
  {
   "cell_type": "code",
   "execution_count": null,
   "metadata": {},
   "outputs": [],
   "source": [
    "def check_domain_status(domain: str) -> bool:\n",
    "    \"\"\"检查单个域名配置状态\"\"\"\n",
    "    exists = has_id(domain)\n",
    "    icon = \"✅\" if exists else \"❌\"\n",
    "    status = \"已配置\" if exists else \"未配置\"\n",
    "    print(f\"{icon} 域名 {domain}: {status}\")\n",
    "    return exists\n",
    "\n",
    "def batch_check_domains(domains: List[str]) -> Dict[str, bool]:\n",
    "    \"\"\"批量检查域名状态\"\"\"\n",
    "    print(f\"\\n🔍 批量检查 {len(domains)} 个域名:\")\n",
    "    results = {}\n",
    "    for domain in domains:\n",
    "        results[domain] = check_domain_status(domain)\n",
    "    return results\n",
    "\n",
    "# 测试域名列表\n",
    "test_domains = [\n",
    "    \"api.example.com\",\n",
    "    \"web.example.com\", \n",
    "    \"admin.example.com\",\n",
    "    \"nonexistent.example.com\"\n",
    "]\n",
    "\n",
    "initial_status = batch_check_domains(test_domains)"
   ]
  },
  {
   "cell_type": "markdown",
   "metadata": {},
   "source": [
    "## 3. 安全的域名添加功能"
   ]
  },
  {
   "cell_type": "code",
   "execution_count": null,
   "metadata": {},
   "outputs": [],
   "source": [
    "def safe_add_domain(domain: str, target: str, force: bool = False) -> bool:\n",
    "    \"\"\"安全添加域名配置\"\"\"\n",
    "    print(f\"\\n🔍 准备添加域名: {domain} -> {target}\")\n",
    "    \n",
    "    # 检查域名是否已存在\n",
    "    if has_id(domain):\n",
    "        if force:\n",
    "            print(f\"⚠️ 域名 {domain} 已存在，强制更新模式\")\n",
    "            try:\n",
    "                del_id(domain)\n",
    "                print(f\"🗑️ 删除现有配置成功\")\n",
    "                time.sleep(0.1)  # 短暂延迟\n",
    "            except Exception as e:\n",
    "                print(f\"❌ 删除现有配置失败: {e}\")\n",
    "                return False\n",
    "        else:\n",
    "            print(f\"❌ 域名 {domain} 已存在，请使用 force=True 强制更新\")\n",
    "            return False\n",
    "    \n",
    "    # 添加新配置\n",
    "    try:\n",
    "        add_reverse_proxy(domain, target)\n",
    "        print(f\"✅ 成功添加域名 {domain}\")\n",
    "        return True\n",
    "    except Exception as e:\n",
    "        print(f\"❌ 添加域名失败: {e}\")\n",
    "        return False\n",
    "\n",
    "# 演示添加域名\n",
    "domain_configs = {\n",
    "    \"api.example.com\": \"localhost:8080\",\n",
    "    \"web.example.com\": \"localhost:3000\",\n",
    "    \"admin.example.com\": \"localhost:9000\"\n",
    "}\n",
    "\n",
    "print(\"📝 开始添加域名配置...\")\n",
    "add_results = {}\n",
    "for domain, target in domain_configs.items():\n",
    "    add_results[domain] = safe_add_domain(domain, target)\n",
    "\n",
    "# 显示添加结果\n",
    "success_count = sum(1 for success in add_results.values() if success)\n",
    "print(f\"\\n📊 添加结果: {success_count}/{len(domain_configs)} 个域名添加成功\")"
   ]
  },
  {
   "cell_type": "markdown",
   "metadata": {},
   "source": [
    "## 4. 验证添加结果"
   ]
  },
  {
   "cell_type": "code",
   "execution_count": null,
   "metadata": {},
   "outputs": [],
   "source": [
    "# 验证所有域名是否成功添加\n",
    "print(\"✅ 验证添加结果:\")\n",
    "verification_results = batch_check_domains(list(domain_configs.keys()))\n",
    "\n",
    "# 统计结果\n",
    "configured_count = sum(1 for exists in verification_results.values() if exists)\n",
    "print(f\"\\n📈 配置状态: {configured_count}/{len(domain_configs)} 个域名已正确配置\")"
   ]
  },
  {
   "cell_type": "markdown",
   "metadata": {},
   "source": [
    "## 5. 域名配置更新"
   ]
  },
  {
   "cell_type": "code",
   "execution_count": null,
   "metadata": {},
   "outputs": [],
   "source": [
    "def update_domain_config(domain: str, new_target: str) -> bool:\n",
    "    \"\"\"更新域名配置\"\"\"\n",
    "    print(f\"\\n🔄 更新域名配置: {domain} -> {new_target}\")\n",
    "    return safe_add_domain(domain, new_target, force=True)\n",
    "\n",
    "# 演示更新配置\n",
    "print(\"🔄 演示配置更新:\")\n",
    "update_success = update_domain_config(\"api.example.com\", \"localhost:8081\")\n",
    "\n",
    "if update_success:\n",
    "    print(\"✅ 配置更新成功\")\n",
    "else:\n",
    "    print(\"❌ 配置更新失败\")"
   ]
  },
  {
   "cell_type": "markdown",
   "metadata": {},
   "source": [
    "## 6. 通配符域名管理"
   ]
  },
  {
   "cell_type": "code",
   "execution_count": null,
   "metadata": {},
   "outputs": [],
   "source": [
    "def manage_wildcard_domain(base_domain: str, subdomains: Dict[str, str]):\n",
    "    \"\"\"管理通配符域名和子域名\"\"\"\n",
    "    wildcard_id = f\"wildcard-{base_domain}\"\n",
    "    \n",
    "    print(f\"🌟 管理通配符域名: *.{base_domain}\")\n",
    "    \n",
    "    # 添加通配符路由\n",
    "    if not has_id(wildcard_id):\n",
    "        try:\n",
    "            add_wildcard_route(base_domain)\n",
    "            print(f\"✅ 添加通配符域名 *.{base_domain}\")\n",
    "        except Exception as e:\n",
    "            print(f\"❌ 添加通配符域名失败: {e}\")\n",
    "            return False\n",
    "    else:\n",
    "        print(f\"ℹ️ 通配符域名 *.{base_domain} 已存在\")\n",
    "    \n",
    "    # 添加子域名\n",
    "    print(f\"\\n📋 添加子域名到 {base_domain}:\")\n",
    "    subdomain_results = {}\n",
    "    \n",
    "    for subdomain, port in subdomains.items():\n",
    "        full_domain = f\"{subdomain}.{base_domain}\"\n",
    "        \n",
    "        if not has_id(full_domain):\n",
    "            try:\n",
    "                add_sub_reverse_proxy(base_domain, subdomain, port)\n",
    "                print(f\"  ✅ {full_domain} -> localhost:{port}\")\n",
    "                subdomain_results[full_domain] = True\n",
    "            except Exception as e:\n",
    "                print(f\"  ❌ {full_domain} 添加失败: {e}\")\n",
    "                subdomain_results[full_domain] = False\n",
    "        else:\n",
    "            print(f\"  ⚠️ {full_domain} 已存在\")\n",
    "            subdomain_results[full_domain] = True\n",
    "    \n",
    "    return subdomain_results\n",
    "\n",
    "# 演示通配符域名管理\n",
    "wildcard_base = \"dev.local\"\n",
    "wildcard_subdomains = {\n",
    "    \"app\": \"8090\",\n",
    "    \"api\": \"8091\",\n",
    "    \"admin\": \"8092\",\n",
    "    \"monitoring\": \"8093\"\n",
    "}\n",
    "\n",
    "wildcard_results = manage_wildcard_domain(wildcard_base, wildcard_subdomains)"
   ]
  },
  {
   "cell_type": "markdown",
   "metadata": {},
   "source": [
    "## 7. 验证通配符域名配置"
   ]
  },
  {
   "cell_type": "code",
   "execution_count": null,
   "metadata": {},
   "outputs": [],
   "source": [
    "# 检查所有子域名状态\n",
    "subdomain_list = [f\"{sub}.{wildcard_base}\" for sub in wildcard_subdomains.keys()]\n",
    "wildcard_status = batch_check_domains(subdomain_list)\n",
    "\n",
    "# 检查通配符路由本身\n",
    "wildcard_id = f\"wildcard-{wildcard_base}\"\n",
    "wildcard_route_exists = check_domain_status(wildcard_id)\n",
    "\n",
    "print(f\"\\n📊 通配符域名配置总结:\")\n",
    "configured_subs = sum(1 for exists in wildcard_status.values() if exists)\n",
    "print(f\"  子域名: {configured_subs}/{len(subdomain_list)} 个已配置\")\n",
    "print(f\"  通配符路由: {'已配置' if wildcard_route_exists else '未配置'}\")"
   ]
  },
  {
   "cell_type": "markdown",
   "metadata": {},
   "source": [
    "## 8. 安全的域名删除功能"
   ]
  },
  {
   "cell_type": "code",
   "execution_count": null,
   "metadata": {},
   "outputs": [],
   "source": [
    "def safe_delete_domain(domain: str, verify: bool = True) -> bool:\n",
    "    \"\"\"安全删除域名配置\"\"\"\n",
    "    print(f\"\\n🗑️ 准备删除域名: {domain}\")\n",
    "    \n",
    "    # 检查域名是否存在\n",
    "    if not has_id(domain):\n",
    "        print(f\"⚠️ 域名 {domain} 不存在，无需删除\")\n",
    "        return True\n",
    "    \n",
    "    # 删除域名\n",
    "    try:\n",
    "        del_id(domain)\n",
    "        print(f\"✅ 删除命令执行成功\")\n",
    "        \n",
    "        # 验证删除结果\n",
    "        if verify:\n",
    "            time.sleep(0.1)  # 短暂延迟\n",
    "            if has_id(domain):\n",
    "                print(f\"❌ 验证失败: 域名 {domain} 仍然存在\")\n",
    "                return False\n",
    "            else:\n",
    "                print(f\"✅ 验证成功: 域名 {domain} 已完全删除\")\n",
    "        \n",
    "        return True\n",
    "    except Exception as e:\n",
    "        print(f\"❌ 删除域名失败: {e}\")\n",
    "        return False\n",
    "\n",
    "def batch_delete_domains(domains: List[str]) -> Dict[str, bool]:\n",
    "    \"\"\"批量删除域名\"\"\"\n",
    "    print(f\"\\n🗑️ 批量删除 {len(domains)} 个域名:\")\n",
    "    results = {}\n",
    "    for domain in domains:\n",
    "        results[domain] = safe_delete_domain(domain)\n",
    "    return results\n",
    "\n",
    "# 演示删除部分域名\n",
    "domains_to_delete = [\"admin.example.com\", \"monitoring.dev.local\"]\n",
    "delete_results = batch_delete_domains(domains_to_delete)\n",
    "\n",
    "success_deletes = sum(1 for success in delete_results.values() if success)\n",
    "print(f\"\\n📊 删除结果: {success_deletes}/{len(domains_to_delete)} 个域名删除成功\")"
   ]
  },
  {
   "cell_type": "markdown",
   "metadata": {},
   "source": [
    "## 9. 最终状态检查和总结"
   ]
  },
  {
   "cell_type": "code",
   "execution_count": null,
   "metadata": {},
   "outputs": [],
   "source": [
    "# 检查所有配置的最终状态\n",
    "print(\"📈 最终配置状态检查:\")\n",
    "\n",
    "all_domains = list(domain_configs.keys()) + subdomain_list + [wildcard_id]\n",
    "final_status = batch_check_domains(all_domains)\n",
    "\n",
    "# 分类统计\n",
    "active_domains = [domain for domain, exists in final_status.items() if exists]\n",
    "inactive_domains = [domain for domain, exists in final_status.items() if not exists]\n",
    "\n",
    "print(f\"\\n📊 配置总结:\")\n",
    "print(f\"  🟢 活跃域名: {len(active_domains)} 个\")\n",
    "for domain in active_domains:\n",
    "    print(f\"    - {domain}\")\n",
    "\n",
    "print(f\"  🔴 未配置域名: {len(inactive_domains)} 个\")\n",
    "for domain in inactive_domains:\n",
    "    print(f\"    - {domain}\")"
   ]
  },
  {
   "cell_type": "markdown",
   "metadata": {},
   "source": [
    "## 10. 配置信息查看"
   ]
  },
  {
   "cell_type": "code",
   "execution_count": null,
   "metadata": {},
   "outputs": [],
   "source": [
    "# 获取详细配置信息\n",
    "def get_detailed_config_info():\n",
    "    \"\"\"获取详细的配置信息\"\"\"\n",
    "    print(\"🔍 获取详细配置信息:\")\n",
    "    \n",
    "    try:\n",
    "        # 获取HTTP服务器配置\n",
    "        if has_path(\"/apps/http/servers\"):\n",
    "            http_servers = gcfg(\"/apps/http/servers\")\n",
    "            print(f\"  📡 HTTP服务器: {len(http_servers)} 个\")\n",
    "            for server_name in http_servers.keys():\n",
    "                print(f\"    - {server_name}\")\n",
    "        else:\n",
    "            print(\"  📡 HTTP服务器: 未配置\")\n",
    "        \n",
    "        # 获取根配置\n",
    "        root_config = gcfg(\"/\")\n",
    "        if 'apps' in root_config:\n",
    "            apps = root_config['apps']\n",
    "            print(f\"  🚀 应用程序: {len(apps)} 个\")\n",
    "            for app_name in apps.keys():\n",
    "                print(f\"    - {app_name}\")\n",
    "        \n",
    "    except Exception as e:\n",
    "        print(f\"  ❌ 获取配置信息失败: {e}\")\n",
    "\n",
    "get_detailed_config_info()"
   ]
  },
  {
   "cell_type": "markdown",
   "metadata": {},
   "source": [
    "## 11. 清理测试配置（可选）"
   ]
  },
  {
   "cell_type": "code",
   "execution_count": null,
   "metadata": {},
   "outputs": [],
   "source": [
    "# 清理所有测试配置\n",
    "def cleanup_all_test_configs():\n",
    "    \"\"\"清理所有测试配置\"\"\"\n",
    "    print(\"🧹 开始清理所有测试配置...\")\n",
    "    \n",
    "    # 清理普通域名\n",
    "    normal_domains = [\"api.example.com\", \"web.example.com\"]\n",
    "    batch_delete_domains(normal_domains)\n",
    "    \n",
    "    # 清理子域名\n",
    "    remaining_subdomains = [f\"{sub}.{wildcard_base}\" for sub in wildcard_subdomains.keys() \n",
    "                           if f\"{sub}.{wildcard_base}\" not in domains_to_delete]\n",
    "    if remaining_subdomains:\n",
    "        batch_delete_domains(remaining_subdomains)\n",
    "    \n",
    "    # 清理通配符路由\n",
    "    safe_delete_domain(wildcard_id)\n",
    "    \n",
    "    print(\"✅ 清理完成\")\n",
    "\n",
    "# 运行清理（注释掉以保留配置用于测试）\n",
    "# cleanup_all_test_configs()"
   ]
  },
  {
   "cell_type": "markdown",
   "metadata": {},
   "source": [
    "## 总结\n",
    "\n",
    "本notebook演示了FastCaddy Python编程接口的主要功能：\n",
    "\n",
    "### 核心功能\n",
    "1. **状态检查**: `has_id()`, `has_path()`, `gcfg()`\n",
    "2. **域名添加**: `add_reverse_proxy()`, `add_wildcard_route()`, `add_sub_reverse_proxy()`\n",
    "3. **域名删除**: `del_id()`\n",
    "4. **配置管理**: `setup_caddy()`, `gcfg()`\n",
    "\n",
    "### 最佳实践\n",
    "1. **操作前检查**: 总是使用 `has_id()` 检查域名状态\n",
    "2. **安全更新**: 更新配置时先删除再添加\n",
    "3. **验证结果**: 操作后验证配置是否正确应用\n",
    "4. **错误处理**: 使用 try-except 处理可能的异常\n",
    "5. **批量操作**: 对多个域名使用批量处理函数\n",
    "\n",
    "### 使用技巧\n",
    "- 使用通配符域名简化子域名管理\n",
    "- 定期检查系统状态确保配置一致性\n",
    "- 开发和生产环境使用不同域名前缀\n",
    "- 及时清理测试配置避免配置污染"
   ]
  }
 ],
 "metadata": {
  "kernelspec": {
   "display_name": "Python 3",
   "language": "python",
   "name": "python3"
  },
  "language_info": {
   "codemirror_mode": {
    "name": "ipython",
    "version": 3
   },
   "file_extension": ".py",
   "mimetype": "text/x-python",
   "name": "python",
   "nbconvert_exporter": "python",
   "pygments_lexer": "ipython3",
   "version": "3.8.5"
  }
 },
 "nbformat": 4,
 "nbformat_minor": 4
}