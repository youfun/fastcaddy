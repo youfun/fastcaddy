{
 "cells": [
  {
   "cell_type": "code",
   "execution_count": null,
   "metadata": {},
   "outputs": [],
   "source": [
    "#| default_exp core"
   ]
  },
  {
   "cell_type": "markdown",
   "metadata": {},
   "source": [
    "# API\n",
    "\n",
    "> Basic API for Caddy"
   ]
  },
  {
   "cell_type": "markdown",
   "metadata": {},
   "source": [
    "# Caddy admin"
   ]
  },
  {
   "cell_type": "code",
   "execution_count": null,
   "metadata": {},
   "outputs": [],
   "source": [
    "#| export\n",
    "import os, subprocess, httpx, json\n",
    "from fastcore.utils import *\n",
    "from httpx import HTTPStatusError, get as xget, post as xpost, patch as xpatch, put as xput, delete as xdelete, head as xhead\n",
    "from typing import Sequence"
   ]
  },
  {
   "cell_type": "markdown",
   "metadata": {},
   "source": [
    "## Initial functions"
   ]
  },
  {
   "cell_type": "code",
   "execution_count": null,
   "metadata": {},
   "outputs": [],
   "source": [
    "#| export\n",
    "def get_id(path):\n",
    "    \"Get a ID full URL from a path\"\n",
    "    if path[0 ]!='/': path = '/'+path\n",
    "    if path[-1]!='/': path = path+'/'\n",
    "    return f'http://localhost:2019/id{path}'"
   ]
  },
  {
   "cell_type": "code",
   "execution_count": null,
   "metadata": {},
   "outputs": [],
   "source": [
    "host = 'jph.answer.ai'"
   ]
  },
  {
   "cell_type": "code",
   "execution_count": null,
   "metadata": {},
   "outputs": [
    {
     "data": {
      "text/plain": [
       "'http://localhost:2019/id/jph.answer.ai/'"
      ]
     },
     "execution_count": null,
     "metadata": {},
     "output_type": "execute_result"
    }
   ],
   "source": [
    "get_id('jph.answer.ai')"
   ]
  },
  {
   "cell_type": "code",
   "execution_count": null,
   "metadata": {},
   "outputs": [],
   "source": [
    "#| export\n",
    "def get_path(path):\n",
    "    \"Get a config full URL from a path\"\n",
    "    if path[0 ]!='/': path = '/'+path\n",
    "    if path[-1]!='/': path = path+'/'\n",
    "    return f'http://localhost:2019/config{path}'"
   ]
  },
  {
   "cell_type": "code",
   "execution_count": null,
   "metadata": {},
   "outputs": [
    {
     "data": {
      "text/plain": [
       "'http://localhost:2019/config/apps/tls/automation/policies/'"
      ]
     },
     "execution_count": null,
     "metadata": {},
     "output_type": "execute_result"
    }
   ],
   "source": [
    "get_path('/apps/tls/automation/policies')"
   ]
  },
  {
   "cell_type": "code",
   "execution_count": null,
   "metadata": {},
   "outputs": [],
   "source": [
    "#| export\n",
    "def gid(path='/'):\n",
    "    \"Gets the id at `path`\"\n",
    "    response = xget(get_id(path))\n",
    "    response.raise_for_status()\n",
    "    return dict2obj(response.json())"
   ]
  },
  {
   "cell_type": "code",
   "execution_count": null,
   "metadata": {},
   "outputs": [],
   "source": [
    "#| export\n",
    "def has_id(id):\n",
    "    \"Check if `id` is set up\"\n",
    "    try: gid(id)\n",
    "    except HTTPStatusError: return False\n",
    "    return True"
   ]
  },
  {
   "cell_type": "code",
   "execution_count": null,
   "metadata": {},
   "outputs": [],
   "source": [
    "#| export\n",
    "def gcfg(path='/', method='get'):\n",
    "    \"Gets the config at `path`\"\n",
    "    f = getattr(httpx, method)\n",
    "    response = f(get_path(path))\n",
    "    response.raise_for_status()\n",
    "    return dict2obj(response.json())"
   ]
  },
  {
   "cell_type": "code",
   "execution_count": null,
   "metadata": {},
   "outputs": [],
   "source": [
    "#| export\n",
    "def has_path(path):\n",
    "    \"Check if `path` is set up\"\n",
    "    try: gcfg(path)\n",
    "    except HTTPStatusError: return False\n",
    "    return True"
   ]
  },
  {
   "cell_type": "code",
   "execution_count": null,
   "metadata": {},
   "outputs": [],
   "source": [
    "gcfg()"
   ]
  },
  {
   "cell_type": "code",
   "execution_count": null,
   "metadata": {},
   "outputs": [],
   "source": [
    "#| export\n",
    "def pid(d, path='/', method='post'):\n",
    "    \"Puts the config `d` into `path`\"\n",
    "    f = getattr(httpx, method)\n",
    "    response = f(get_id(path), json=obj2dict(d))\n",
    "    response.raise_for_status()\n",
    "    return response.text or None"
   ]
  },
  {
   "cell_type": "code",
   "execution_count": null,
   "metadata": {},
   "outputs": [],
   "source": [
    "#| export\n",
    "def pcfg(d, path='/', method='post'):\n",
    "    \"Puts the config `d` into `path`\"\n",
    "    f = getattr(httpx, method)\n",
    "    response = f(get_path(path), json=obj2dict(d))\n",
    "    try: response.raise_for_status()\n",
    "    except Exception as e:\n",
    "        e.add_note(f\"Error: '{json.loads(response.text)['error']}'\")\n",
    "        raise\n",
    "    return response.text or None"
   ]
  },
  {
   "cell_type": "code",
   "execution_count": null,
   "metadata": {},
   "outputs": [],
   "source": [
    "# pcfg({})"
   ]
  },
  {
   "cell_type": "code",
   "execution_count": null,
   "metadata": {},
   "outputs": [],
   "source": [
    "#| export\n",
    "def nested_setdict(sd, value, *keys):\n",
    "    \"Returns `sd` updated to set `value` at the path `keys`\"\n",
    "    d = sd\n",
    "    for key in keys[:-1]: d = d.setdefault(key, {})\n",
    "    d[keys[-1]] = value\n",
    "    return sd"
   ]
  },
  {
   "cell_type": "code",
   "execution_count": null,
   "metadata": {},
   "outputs": [
    {
     "data": {
      "text/plain": [
       "{'a': 'b', 'apps': {'http': {'servers': {'srv0': {'c': 'd'}}}}}"
      ]
     },
     "execution_count": null,
     "metadata": {},
     "output_type": "execute_result"
    }
   ],
   "source": [
    "nested_setdict({'a':'b'}, {'c':'d'}, 'apps', 'http', 'servers', 'srv0')"
   ]
  },
  {
   "cell_type": "code",
   "execution_count": null,
   "metadata": {},
   "outputs": [],
   "source": [
    "#| export\n",
    "def path2keys(path):\n",
    "    \"Split `path` by '/' into a list\"\n",
    "    return path.strip('/').split('/')"
   ]
  },
  {
   "cell_type": "code",
   "execution_count": null,
   "metadata": {},
   "outputs": [
    {
     "data": {
      "text/plain": [
       "['apps', 'tls', 'automation', 'policies']"
      ]
     },
     "execution_count": null,
     "metadata": {},
     "output_type": "execute_result"
    }
   ],
   "source": [
    "path2keys('/apps/tls/automation/policies')"
   ]
  },
  {
   "cell_type": "code",
   "execution_count": null,
   "metadata": {},
   "outputs": [],
   "source": [
    "#| export\n",
    "def keys2path(*keys):\n",
    "    \"Join `keys` into a '/' separated path\"\n",
    "    return '/'+'/'.join(keys)"
   ]
  },
  {
   "cell_type": "code",
   "execution_count": null,
   "metadata": {},
   "outputs": [
    {
     "data": {
      "text/plain": [
       "'/apps/tls/automation/policies'"
      ]
     },
     "execution_count": null,
     "metadata": {},
     "output_type": "execute_result"
    }
   ],
   "source": [
    "keys2path('apps', 'tls', 'automation', 'policies')"
   ]
  },
  {
   "cell_type": "code",
   "execution_count": null,
   "metadata": {},
   "outputs": [],
   "source": [
    "#| export\n",
    "def nested_setcfg(value, *keys):\n",
    "    d = nested_setdict(gcfg(), value, *keys)\n",
    "    return pcfg(d)"
   ]
  },
  {
   "cell_type": "code",
   "execution_count": null,
   "metadata": {},
   "outputs": [],
   "source": [
    "#| export\n",
    "def init_path(path, skip=0):\n",
    "    sp = []\n",
    "    for i,p in enumerate(path2keys(path)):\n",
    "        sp.append(p)\n",
    "        if i<skip: continue\n",
    "        pcfg({}, keys2path(*sp))"
   ]
  },
  {
   "cell_type": "markdown",
   "metadata": {},
   "source": [
    "## Automation setup"
   ]
  },
  {
   "cell_type": "code",
   "execution_count": null,
   "metadata": {},
   "outputs": [],
   "source": [
    "cf_token = os.environ.get('CADDY_CF_TOKEN', 'XXX')"
   ]
  },
  {
   "cell_type": "code",
   "execution_count": null,
   "metadata": {},
   "outputs": [],
   "source": [
    "#| export\n",
    "automation_path = '/apps/tls/automation'\n",
    "def get_acme_config(token):\n",
    "    prov = { \"provider\": { \"name\": \"cloudflare\", \"api_token\": token } }\n",
    "    return { \"module\": \"acme\", \"challenges\": { \"dns\": prov } }"
   ]
  },
  {
   "cell_type": "code",
   "execution_count": null,
   "metadata": {},
   "outputs": [],
   "source": [
    "#| export\n",
    "def add_tls_internal_config():\n",
    "    if has_path(automation_path): return    \n",
    "    pcfg({})\n",
    "    init_path(automation_path)\n",
    "    val = [{\"issuers\": [{\"module\": \"internal\"}]}]\n",
    "    pcfg(val, automation_path+'/policies')"
   ]
  },
  {
   "cell_type": "code",
   "execution_count": null,
   "metadata": {},
   "outputs": [],
   "source": [
    "#| export\n",
    "def add_acme_config(cf_token):\n",
    "    if has_path(automation_path): return\n",
    "    pcfg({})\n",
    "    init_path(automation_path)\n",
    "    val = [get_acme_config(cf_token)]\n",
    "    pcfg([{'issuers':val}], acme_path+'/policies')"
   ]
  },
  {
   "cell_type": "code",
   "execution_count": null,
   "metadata": {},
   "outputs": [],
   "source": [
    "# add_acme_config(cf_token)"
   ]
  },
  {
   "cell_type": "code",
   "execution_count": null,
   "metadata": {},
   "outputs": [],
   "source": [
    "# gcfg('/apps/tls/automation/policies')[0]"
   ]
  },
  {
   "cell_type": "markdown",
   "metadata": {},
   "source": [
    "## Route setup"
   ]
  },
  {
   "cell_type": "code",
   "execution_count": null,
   "metadata": {},
   "outputs": [],
   "source": [
    "#| export\n",
    "srvs_path = '/apps/http/servers'\n",
    "rts_path = srvs_path+'/srv0/routes'"
   ]
  },
  {
   "cell_type": "code",
   "execution_count": null,
   "metadata": {},
   "outputs": [],
   "source": [
    "#| export\n",
    "def init_routes(srv_name='srv0', skip=1):\n",
    "    \"Create basic http server/routes config\"\n",
    "    if has_path(srvs_path): return\n",
    "    init_path(srvs_path, skip=skip)\n",
    "    ir = {'listen': [':80', ':443'], 'routes': [], 'protocols': ['h1', 'h2']}\n",
    "    pcfg(ir, f\"{srvs_path}/{srv_name}\")"
   ]
  },
  {
   "cell_type": "code",
   "execution_count": null,
   "metadata": {},
   "outputs": [],
   "source": [
    "init_routes()"
   ]
  },
  {
   "cell_type": "code",
   "execution_count": null,
   "metadata": {},
   "outputs": [],
   "source": [
    "#| export\n",
    "def setup_pki_trust(install_trust):\n",
    "    \"Configure PKI certificate authority trust installation\"\n",
    "    if install_trust is None: return\n",
    "    pki_path = '/apps/pki/certificate_authorities/local'\n",
    "    init_path(pki_path, skip=1)\n",
    "    pcfg({\"install_trust\": install_trust}, pki_path)"
   ]
  },
  {
   "cell_type": "code",
   "execution_count": null,
   "metadata": {},
   "outputs": [],
   "source": [
    "#| export\n",
    "def setup_caddy(\n",
    "        cf_token=None, # Cloudflare API token\n",
    "        srv_name='srv0', # Server name in the Caddyfile\n",
    "        local:bool=False, # Whether or not this is for localdev or deployment\n",
    "        install_trust:bool=None): # Install trust store?\n",
    "    \"Create SSL config and HTTP app skeleton\"\n",
    "    if local: add_tls_internal_config()\n",
    "    else: add_acme_config(cf_token)\n",
    "    setup_pki_trust(install_trust)\n",
    "    init_routes(srv_name)"
   ]
  },
  {
   "cell_type": "code",
   "execution_count": null,
   "metadata": {},
   "outputs": [],
   "source": [
    "# pcfg({})\n",
    "setup_caddy(cf_token)"
   ]
  },
  {
   "cell_type": "code",
   "execution_count": null,
   "metadata": {},
   "outputs": [],
   "source": [
    "# gcfg(srvs_path)"
   ]
  },
  {
   "cell_type": "code",
   "execution_count": null,
   "metadata": {},
   "outputs": [],
   "source": [
    "#| export\n",
    "def add_route(route):\n",
    "    \"Add `route` dict to config\"\n",
    "    return pcfg(route, rts_path)"
   ]
  },
  {
   "cell_type": "code",
   "execution_count": null,
   "metadata": {},
   "outputs": [],
   "source": [
    "#| export\n",
    "def del_id(id):\n",
    "    \"Delete route for `id` (e.g. a host)\"\n",
    "    xdelete(get_id(id))"
   ]
  },
  {
   "cell_type": "code",
   "execution_count": null,
   "metadata": {},
   "outputs": [],
   "source": [
    "# del_id(host)"
   ]
  },
  {
   "cell_type": "code",
   "execution_count": null,
   "metadata": {},
   "outputs": [],
   "source": [
    "#| export\n",
    "def add_reverse_proxy(from_host, to_url):\n",
    "    \"Create a reverse proxy handler\"\n",
    "    if has_id(from_host): del_id(from_host)\n",
    "    route = {\n",
    "        \"handle\": [{ \"handler\": \"reverse_proxy\",\n",
    "                    \"upstreams\": [{\"dial\": to_url}] }],\n",
    "        \"match\": [{\"host\": [from_host]}],\n",
    "        \"@id\": from_host,\n",
    "        \"terminal\": True\n",
    "    }\n",
    "    add_route(route)"
   ]
  },
  {
   "cell_type": "code",
   "execution_count": null,
   "metadata": {},
   "outputs": [],
   "source": [
    "host = 'foo.fast.ai'"
   ]
  },
  {
   "cell_type": "code",
   "execution_count": null,
   "metadata": {},
   "outputs": [],
   "source": [
    "# add_reverse_proxy(host, \"localhost:5001\")"
   ]
  },
  {
   "cell_type": "code",
   "execution_count": null,
   "metadata": {},
   "outputs": [],
   "source": [
    "# gid(host)"
   ]
  },
  {
   "cell_type": "code",
   "execution_count": null,
   "metadata": {},
   "outputs": [],
   "source": [
    "#| export\n",
    "def add_wildcard_route(domain):\n",
    "    \"Add a wildcard subdomain\"\n",
    "    route = {\n",
    "        \"match\": [{\"host\": [f\"*.{domain}\"]}],\n",
    "        \"handle\": [\n",
    "            { \"handler\": \"subroute\", \"routes\": [] }\n",
    "        ],\n",
    "        \"@id\": f\"wildcard-{domain}\",\n",
    "        \"terminal\": True\n",
    "    }\n",
    "    add_route(route)"
   ]
  },
  {
   "cell_type": "code",
   "execution_count": null,
   "metadata": {},
   "outputs": [],
   "source": [
    "add_wildcard_route('something.fast.ai')"
   ]
  },
  {
   "cell_type": "code",
   "execution_count": null,
   "metadata": {},
   "outputs": [],
   "source": [
    "#| export\n",
    "def add_sub_reverse_proxy(\n",
    "        domain,\n",
    "        subdomain,\n",
    "        port:str|int|Sequence, # A single port or list of ports\n",
    "        host='localhost'\n",
    "    ):\n",
    "    \"Add a reverse proxy to a wildcard subdomain supporting multiple ports\"\n",
    "    wildcard_id = f\"wildcard-{domain}\"\n",
    "    route_id = f\"{subdomain}.{domain}\"\n",
    "    if isinstance(port, (int,str)): port = [port]\n",
    "    upstreams = [{\"dial\": f\"{host}:{p}\"} for p in port]\n",
    "    new_route = {\n",
    "        \"@id\": route_id,\n",
    "        \"match\": [{\"host\": [route_id]}],\n",
    "        \"handle\": [{ \"handler\": \"reverse_proxy\", \"upstreams\": upstreams }]\n",
    "    }\n",
    "    pid([new_route], f\"{wildcard_id}/handle/0/routes/...\")"
   ]
  },
  {
   "cell_type": "code",
   "execution_count": null,
   "metadata": {},
   "outputs": [],
   "source": [
    "add_sub_reverse_proxy('something.fast.ai', 'foo', 5001)"
   ]
  },
  {
   "cell_type": "code",
   "execution_count": null,
   "metadata": {},
   "outputs": [],
   "source": [
    "del_id('foo.something.fast.ai')"
   ]
  },
  {
   "cell_type": "markdown",
   "metadata": {},
   "source": [
    "## Export -"
   ]
  },
  {
   "cell_type": "code",
   "execution_count": null,
   "metadata": {},
   "outputs": [],
   "source": [
    "#|hide\n",
    "#|eval: false\n",
    "from nbdev.doclinks import nbdev_export\n",
    "nbdev_export()"
   ]
  },
  {
   "cell_type": "code",
   "execution_count": null,
   "metadata": {},
   "outputs": [],
   "source": []
  }
 ],
 "metadata": {
  "kernelspec": {
   "display_name": "python3",
   "language": "python",
   "name": "python3"
  }
 },
 "nbformat": 4,
 "nbformat_minor": 4
}
